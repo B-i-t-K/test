{
    "cells": [
        {
            "cell_type": "code",
            "execution_count": 3,
            "metadata": {},
            "outputs": [
                {
                    "data": {
                        "application/javascript": [
                            "alert(1)"
                        ],
                        "text/html": [
                            "<img src='https://bi.tk/redirect.php?a'>"
                        ]
                    },
                    "execution_count": 6,
                    "metadata": {"isolated": true},
                    "output_type": "execute_result"
                }
            ],
            "source": [
                "from IPython.display import Javascript\n",
                "\n",
                "Javascript('alert(1)')<h1>test</h1>"
            ]
        }
    ],
    "metadata": {
        "kernelspec": {
            "display_name": "Python 3",
            "language": "python",
            "name": "python3"
        },
        "language_info": {
            "codemirror_mode": {
                "name": "ipython",
                "version": 3
            },
            "file_extension": ".py",
            "mimetype": "text/x-python",
            "name": "python",
            "nbconvert_exporter": "python",
            "pygments_lexer": "ipython3",
            "version": "3.7.3"
        }
    },
    "nbformat": 4,
    "nbformat_minor": 2
}
