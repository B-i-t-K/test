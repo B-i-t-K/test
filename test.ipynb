{
    "cells": [
        {
            "cell_type": "code",
            "execution_count": 3,
            "metadata": {},
            "outputs": [
                {
                    "output_type" : "display_data",
                    "data" : {
                        "text/plain" : "[multiline text data]",
                        "image/png": "[base64-encoded-multiline-png-data]",
                        "application/json": {
                            "json": "<script>alert(1)</script>",
                        },
                    },
                    "metadata" : {
                        "image/png": {
                            "width": 640,
                            "height": 480,
                        },
                    },
                }
            ],
            "source": [
                "from IPython.display import Javascript\n",
                "\n",
                "Javascript('alert(1)')<h1>test</h1>"
            ]
        }
    ],
    "metadata": {
        "kernelspec": {
            "display_name": "Python 3",
            "language": "python",
            "name": "python3"
        },
        "language_info": {
            "codemirror_mode": {
                "name": "ipython",
                "version": 3
            },
            "file_extension": ".py",
            "mimetype": "text/x-python",
            "name": "python",
            "nbconvert_exporter": "python",
            "pygments_lexer": "ipython3",
            "version": "3.7.3"
        }
    },
    "nbformat": 4,
    "nbformat_minor": 2
}
